{
 "cells": [
  {
   "cell_type": "code",
   "execution_count": 1,
   "id": "5cf74198",
   "metadata": {},
   "outputs": [],
   "source": [
    "import selenium\n",
    "import pandas as pd\n",
    "from selenium import webdriver\n",
    "import warnings\n",
    "warnings.filterwarnings('ignore')\n",
    "from selenium.webdriver.common.by import By\n",
    "import time"
   ]
  },
  {
   "cell_type": "code",
   "execution_count": 2,
   "id": "3e66fcea",
   "metadata": {},
   "outputs": [],
   "source": [
    "driver = webdriver.Chrome()"
   ]
  },
  {
   "cell_type": "code",
   "execution_count": 3,
   "id": "12e6a3ba",
   "metadata": {},
   "outputs": [],
   "source": [
    "driver.get(\"https://www.naukri.com/\")"
   ]
  },
  {
   "cell_type": "code",
   "execution_count": 4,
   "id": "606e5fb6",
   "metadata": {},
   "outputs": [],
   "source": [
    "designation=driver.find_element(By.CLASS_NAME,\"suggestor-input \")\n",
    "designation.send_keys(\"Data Scientist\")"
   ]
  },
  {
   "cell_type": "code",
   "execution_count": 5,
   "id": "fb8e1bb3",
   "metadata": {},
   "outputs": [],
   "source": [
    "location=driver.find_element(By.XPATH,\"/html/body/div[1]/div[7]/div/div/div[5]/div/div/div/div[1]/div/input\")\n",
    "location.send_keys(\"Delhi/NCR\")"
   ]
  },
  {
   "cell_type": "code",
   "execution_count": 6,
   "id": "c81e4284",
   "metadata": {},
   "outputs": [],
   "source": [
    "search=driver.find_element(By.CLASS_NAME,\"qsbSubmit\")\n",
    "search.click()"
   ]
  },
  {
   "cell_type": "code",
   "execution_count": 7,
   "id": "09f391bc",
   "metadata": {},
   "outputs": [],
   "source": [
    "job_title=[]\n",
    "job_location=[]\n",
    "company_name=[]\n",
    "experience_required=[]"
   ]
  },
  {
   "cell_type": "code",
   "execution_count": 8,
   "id": "73a31cbe",
   "metadata": {},
   "outputs": [],
   "source": [
    "title_tags=driver.find_elements(By.XPATH,'//div[@class=\"cust-job-tuple layout-wrapper lay-2 sjw__tuple \"]/div/a')\n",
    "title_tags[0:10]\n",
    "for i in title_tags[0:10]:\n",
    "    title=i.text\n",
    "    job_title.append(title)\n",
    "\n",
    "location_tags=driver.find_elements(By.XPATH,'//span[@class=\"locWdth\"]')\n",
    "location_tags[0:10]\n",
    "for i in location_tags[0:10]:\n",
    "    location=i.text\n",
    "    job_location.append(location)\n",
    "    \n",
    "    \n",
    "company_tags=driver.find_elements(By.XPATH,'//div[@class=\" row2\"]/span/a[1]')\n",
    "company_tags[0:10]\n",
    "for i in company_tags[0:10]:\n",
    "    company=i.text\n",
    "    company_name.append(company)\n",
    "    \n",
    "\n",
    "experience_tags=driver.find_elements(By.XPATH,'//span[@class=\"expwdth\"]')\n",
    "experience_tags[0:10]\n",
    "for i in experience_tags[0:10]:\n",
    "    exps=i.text\n",
    "    experience_required.append(exps)\n"
   ]
  },
  {
   "cell_type": "code",
   "execution_count": 9,
   "id": "3a658b50",
   "metadata": {},
   "outputs": [
    {
     "name": "stdout",
     "output_type": "stream",
     "text": [
      "10 10 10 10\n"
     ]
    }
   ],
   "source": [
    "print(len(job_title), len(job_location), len(company_name), len(experience_required))"
   ]
  },
  {
   "cell_type": "code",
   "execution_count": 10,
   "id": "0ca240ed",
   "metadata": {},
   "outputs": [
    {
     "data": {
      "text/html": [
       "<div>\n",
       "<style scoped>\n",
       "    .dataframe tbody tr th:only-of-type {\n",
       "        vertical-align: middle;\n",
       "    }\n",
       "\n",
       "    .dataframe tbody tr th {\n",
       "        vertical-align: top;\n",
       "    }\n",
       "\n",
       "    .dataframe thead th {\n",
       "        text-align: right;\n",
       "    }\n",
       "</style>\n",
       "<table border=\"1\" class=\"dataframe\">\n",
       "  <thead>\n",
       "    <tr style=\"text-align: right;\">\n",
       "      <th></th>\n",
       "      <th>Title</th>\n",
       "      <th>Location</th>\n",
       "      <th>Company Name</th>\n",
       "      <th>Experience</th>\n",
       "    </tr>\n",
       "  </thead>\n",
       "  <tbody>\n",
       "    <tr>\n",
       "      <th>0</th>\n",
       "      <td>Data Scientist</td>\n",
       "      <td>Hybrid - Noida, Ghaziabad, New Delhi</td>\n",
       "      <td>PwC Service Delivery Center</td>\n",
       "      <td>4-7 Yrs</td>\n",
       "    </tr>\n",
       "    <tr>\n",
       "      <th>1</th>\n",
       "      <td>Data Scientist / Data Engineer</td>\n",
       "      <td>Gurugram</td>\n",
       "      <td>Leadventure India</td>\n",
       "      <td>2-6 Yrs</td>\n",
       "    </tr>\n",
       "    <tr>\n",
       "      <th>2</th>\n",
       "      <td>Data Scientist</td>\n",
       "      <td>Delhi / NCR, Pune, Bengaluru</td>\n",
       "      <td>Wipro</td>\n",
       "      <td>6-11 Yrs</td>\n",
       "    </tr>\n",
       "    <tr>\n",
       "      <th>3</th>\n",
       "      <td>Data Scientist</td>\n",
       "      <td>Noida, Bengaluru</td>\n",
       "      <td>Ericsson</td>\n",
       "      <td>5-10 Yrs</td>\n",
       "    </tr>\n",
       "    <tr>\n",
       "      <th>4</th>\n",
       "      <td>Data Scientist- Pune/Bangalore/ Gurugram</td>\n",
       "      <td>Pune, Gurugram, Bengaluru</td>\n",
       "      <td>Spectral consultants</td>\n",
       "      <td>2-7 Yrs</td>\n",
       "    </tr>\n",
       "    <tr>\n",
       "      <th>5</th>\n",
       "      <td>Data Scientist</td>\n",
       "      <td>New Delhi</td>\n",
       "      <td>Maruti Suzuki</td>\n",
       "      <td>2-5 Yrs</td>\n",
       "    </tr>\n",
       "    <tr>\n",
       "      <th>6</th>\n",
       "      <td>Data Scientist / Decision Scientist</td>\n",
       "      <td>Gurugram</td>\n",
       "      <td>Maruti Suzuki</td>\n",
       "      <td>4-7 Yrs</td>\n",
       "    </tr>\n",
       "    <tr>\n",
       "      <th>7</th>\n",
       "      <td>Data Scientist</td>\n",
       "      <td>Hybrid - Delhi / NCR</td>\n",
       "      <td>KPMG Assurance and Consulting Services LLP</td>\n",
       "      <td>3-8 Yrs</td>\n",
       "    </tr>\n",
       "    <tr>\n",
       "      <th>8</th>\n",
       "      <td>Data Scientist</td>\n",
       "      <td>Gurugram</td>\n",
       "      <td>Hdfc Bank</td>\n",
       "      <td>11-14 Yrs</td>\n",
       "    </tr>\n",
       "    <tr>\n",
       "      <th>9</th>\n",
       "      <td>Data Scientist III</td>\n",
       "      <td>Gurugram</td>\n",
       "      <td>Girnar Insurance Brokers</td>\n",
       "      <td>4-9 Yrs</td>\n",
       "    </tr>\n",
       "  </tbody>\n",
       "</table>\n",
       "</div>"
      ],
      "text/plain": [
       "                                      Title  \\\n",
       "0                            Data Scientist   \n",
       "1            Data Scientist / Data Engineer   \n",
       "2                            Data Scientist   \n",
       "3                            Data Scientist   \n",
       "4  Data Scientist- Pune/Bangalore/ Gurugram   \n",
       "5                            Data Scientist   \n",
       "6       Data Scientist / Decision Scientist   \n",
       "7                            Data Scientist   \n",
       "8                            Data Scientist   \n",
       "9                        Data Scientist III   \n",
       "\n",
       "                               Location  \\\n",
       "0  Hybrid - Noida, Ghaziabad, New Delhi   \n",
       "1                              Gurugram   \n",
       "2          Delhi / NCR, Pune, Bengaluru   \n",
       "3                      Noida, Bengaluru   \n",
       "4             Pune, Gurugram, Bengaluru   \n",
       "5                             New Delhi   \n",
       "6                              Gurugram   \n",
       "7                  Hybrid - Delhi / NCR   \n",
       "8                              Gurugram   \n",
       "9                              Gurugram   \n",
       "\n",
       "                                 Company Name Experience  \n",
       "0                 PwC Service Delivery Center    4-7 Yrs  \n",
       "1                           Leadventure India    2-6 Yrs  \n",
       "2                                       Wipro   6-11 Yrs  \n",
       "3                                    Ericsson   5-10 Yrs  \n",
       "4                        Spectral consultants    2-7 Yrs  \n",
       "5                               Maruti Suzuki    2-5 Yrs  \n",
       "6                               Maruti Suzuki    4-7 Yrs  \n",
       "7  KPMG Assurance and Consulting Services LLP    3-8 Yrs  \n",
       "8                                   Hdfc Bank  11-14 Yrs  \n",
       "9                    Girnar Insurance Brokers    4-9 Yrs  "
      ]
     },
     "execution_count": 10,
     "metadata": {},
     "output_type": "execute_result"
    }
   ],
   "source": [
    "import pandas as pd\n",
    "df=pd.DataFrame({'Title':job_title, 'Location':job_location, 'Company Name':company_name, 'Experience':experience_required})\n",
    "df"
   ]
  },
  {
   "cell_type": "markdown",
   "id": "a26e37ad",
   "metadata": {},
   "source": [
    "QUESTION 2"
   ]
  },
  {
   "cell_type": "code",
   "execution_count": 14,
   "id": "c2406f5b",
   "metadata": {},
   "outputs": [],
   "source": [
    "driver = webdriver.Chrome()"
   ]
  },
  {
   "cell_type": "code",
   "execution_count": 15,
   "id": "f5f4b09e",
   "metadata": {},
   "outputs": [],
   "source": [
    "driver.get(\"https://www.shine.com/\")"
   ]
  },
  {
   "cell_type": "code",
   "execution_count": 24,
   "id": "8a8155d8",
   "metadata": {},
   "outputs": [
    {
     "ename": "SyntaxError",
     "evalue": "invalid syntax (657108272.py, line 1)",
     "output_type": "error",
     "traceback": [
      "\u001b[1;36m  Cell \u001b[1;32mIn[24], line 1\u001b[1;36m\u001b[0m\n\u001b[1;33m    designation=driver.find_element(By.XPATH,/html/body/div/div[2]/div/div/div[1]/div[1]/div/div[2]/div/div[1]/form/div/div[1]/ul/li[1]/div)\u001b[0m\n\u001b[1;37m                                             ^\u001b[0m\n\u001b[1;31mSyntaxError\u001b[0m\u001b[1;31m:\u001b[0m invalid syntax\n"
     ]
    }
   ],
   "source": [
    "designation=driver.find_element(By.XPATH,/html/body/div/div[2]/div/div/div[1]/div[1]/div/div[2]/div/div[1]/form/div/div[1]/ul/li[1]/div)\n",
    "designation.send_keys(\"Data Analyst\")"
   ]
  },
  {
   "cell_type": "markdown",
   "id": "c2108945",
   "metadata": {},
   "source": [
    "QUESTION 3"
   ]
  },
  {
   "cell_type": "code",
   "execution_count": 25,
   "id": "1f51849e",
   "metadata": {},
   "outputs": [],
   "source": [
    "driver = webdriver.Chrome()"
   ]
  },
  {
   "cell_type": "code",
   "execution_count": 26,
   "id": "39a404a8",
   "metadata": {},
   "outputs": [],
   "source": [
    "driver.get(\"https://www.flipkart.com/apple-iphone-11-black-64-gb/product-reviews/itm4e5041ba101fd?pid=MOBFWQ6BXGJCEYNY&lid=LSTMOBFWQ6BXGJCEYNYZXSHRJ&marketplace=FLIPKART\")"
   ]
  },
  {
   "cell_type": "code",
   "execution_count": 30,
   "id": "d2f8f310",
   "metadata": {},
   "outputs": [],
   "source": [
    "rating=[]\n",
    "review_summary=[]\n",
    "full_review=[]"
   ]
  },
  {
   "cell_type": "code",
   "execution_count": 52,
   "id": "b072bafd",
   "metadata": {},
   "outputs": [],
   "source": [
    "rating=driver.find_elements(By.CLASS_NAME,\"XQDdHH Ga3i8K\")\n"
   ]
  },
  {
   "cell_type": "code",
   "execution_count": 53,
   "id": "04743f93",
   "metadata": {},
   "outputs": [
    {
     "data": {
      "text/plain": [
       "0"
      ]
     },
     "execution_count": 53,
     "metadata": {},
     "output_type": "execute_result"
    }
   ],
   "source": [
    "len(rating)"
   ]
  },
  {
   "cell_type": "code",
   "execution_count": 54,
   "id": "5fb1bfa4",
   "metadata": {},
   "outputs": [],
   "source": [
    "review_summary=driver.find_elements(By.CLASS_NAME,\"z9E0IG\")"
   ]
  },
  {
   "cell_type": "code",
   "execution_count": 55,
   "id": "2ef9b678",
   "metadata": {},
   "outputs": [
    {
     "data": {
      "text/plain": [
       "4"
      ]
     },
     "execution_count": 55,
     "metadata": {},
     "output_type": "execute_result"
    }
   ],
   "source": [
    "len(review_summary)"
   ]
  },
  {
   "cell_type": "code",
   "execution_count": 56,
   "id": "31b3e87f",
   "metadata": {},
   "outputs": [],
   "source": [
    "full_review=driver.find_elements(By.CLASS_NAME,\"ZmyHeo\")"
   ]
  },
  {
   "cell_type": "code",
   "execution_count": 58,
   "id": "410284b8",
   "metadata": {},
   "outputs": [
    {
     "data": {
      "text/plain": [
       "5"
      ]
     },
     "execution_count": 58,
     "metadata": {},
     "output_type": "execute_result"
    }
   ],
   "source": [
    "len(full_review)"
   ]
  },
  {
   "cell_type": "code",
   "execution_count": 59,
   "id": "e9d8b2c2",
   "metadata": {},
   "outputs": [
    {
     "name": "stdout",
     "output_type": "stream",
     "text": [
      "0 4 5\n"
     ]
    }
   ],
   "source": [
    "print(len(rating), len(review_summary), len(full_review))"
   ]
  },
  {
   "cell_type": "markdown",
   "id": "3b162baa",
   "metadata": {},
   "source": [
    "Question 4"
   ]
  },
  {
   "cell_type": "code",
   "execution_count": 60,
   "id": "49c41c22",
   "metadata": {},
   "outputs": [],
   "source": [
    "driver = webdriver.Chrome()"
   ]
  },
  {
   "cell_type": "code",
   "execution_count": 61,
   "id": "d6890e45",
   "metadata": {},
   "outputs": [],
   "source": [
    "driver.get(\"https://www.flipkart.com/search?q=sneakers&otracker=search&otracker1=search&marketplace=FLIPKART&as-show=on&as=off\")"
   ]
  },
  {
   "cell_type": "code",
   "execution_count": 75,
   "id": "62144403",
   "metadata": {},
   "outputs": [],
   "source": [
    "brands=[]\n",
    "product_descriptions=[]\n",
    "prices=[]"
   ]
  },
  {
   "cell_type": "code",
   "execution_count": 81,
   "id": "91370379",
   "metadata": {},
   "outputs": [],
   "source": [
    "\n",
    "brand=driver.find_elements(By.XPATH,'//div[@class=\"syl9yP\"]')\n",
    "brand[0:100]\n",
    "for i in brand [0:100]:\n",
    "    brand=i.text\n",
    "    brands.append(brand)\n",
    "    \n",
    "product=driver.find_elements(By.XPATH,'//div[@class=\"hCKiGj\"]/a[1]')\n",
    "product[0:100]\n",
    "for i in product [0:100]:\n",
    "    product=i.text\n",
    "    product_descriptions.append(product)\n",
    "    \n",
    "price=driver.find_elements(By.XPATH,'//div[@class=\"Nx9bqj\"]')\n",
    "price[0:100]\n",
    "for i in price [0:100]:\n",
    "    price=i.text\n",
    "    prices.append(price.replace('₹',''))"
   ]
  },
  {
   "cell_type": "code",
   "execution_count": 77,
   "id": "d138f115",
   "metadata": {},
   "outputs": [
    {
     "data": {
      "text/plain": [
       "['BRUTON',\n",
       " 'BRUTON',\n",
       " 'Deals4you',\n",
       " 'aadi',\n",
       " 'aadi',\n",
       " 'U.S. POLO ASSN.',\n",
       " 'BRUTON',\n",
       " 'BRUTON',\n",
       " 'Ifah',\n",
       " 'PUMA',\n",
       " 'BRUTON',\n",
       " 'BRUTON',\n",
       " 'PUMA',\n",
       " 'aadi',\n",
       " 'Zixer',\n",
       " 'asian',\n",
       " 'BRUTON',\n",
       " 'Robbie jones',\n",
       " 'PUMA',\n",
       " 'Kook N Keech',\n",
       " 'Dillions',\n",
       " 'JUMPLITE',\n",
       " 'asian',\n",
       " 'ATOM',\n",
       " 'asian',\n",
       " 'URBANBOX',\n",
       " 'Robbie jones',\n",
       " 'Robbie jones',\n",
       " 'VENDOZ',\n",
       " 'ATOM',\n",
       " 'Red Tape',\n",
       " \"K' Footlance\",\n",
       " 'PUMA',\n",
       " 'CAMPUS',\n",
       " 'aadi',\n",
       " 'Ifah',\n",
       " 'HIGHLANDER',\n",
       " 'Red Tape',\n",
       " 'RUN SEVEN',\n",
       " 'Red Tape']"
      ]
     },
     "execution_count": 77,
     "metadata": {},
     "output_type": "execute_result"
    }
   ],
   "source": [
    "brands"
   ]
  },
  {
   "cell_type": "code",
   "execution_count": 78,
   "id": "ab64a02d",
   "metadata": {},
   "outputs": [
    {
     "data": {
      "text/plain": [
       "['Modern Trendy Sneakers For Men',\n",
       " 'Exclusive Sneaker Shoes Sneakers For Men',\n",
       " 'Sneakers For Women',\n",
       " 'Lightweight,Comfort,Summer,Trendy,Walking,Outdoor,Styli...',\n",
       " 'Sneakers For Men',\n",
       " 'CLARKIN Sneakers For Men',\n",
       " 'Lite Casual Shoes Sneakers For Men',\n",
       " 'Sneaker Sneakers For Men',\n",
       " 'Sneakers For Women',\n",
       " 'Puma Tychonic Sneakers For Men',\n",
       " 'Modern Trendy Shoes Sneakers For Men',\n",
       " 'Trendy & Stylish Casual Shoes Sneakers For Men',\n",
       " 'Puma Tychonic Sneakers For Men',\n",
       " 'Sneakers For Men',\n",
       " 'High Heel Top Casual Stylish New Attractive Sneakers Sh...',\n",
       " 'Casual Sneakers Shoes For Men Mexico-11 Sneakers For Me...',\n",
       " 'Trendy & Stylish Casual Shoes Sneakers For Men',\n",
       " 'Casual Sneakers Colour Blocked Shoes For Boys Sneakers ...',\n",
       " 'PUMA Ardent Sneakers For Men',\n",
       " 'Kook N Keech Men White Faux Leather CASUAL Lace Up Snea...',\n",
       " 'Sneakers For Men',\n",
       " 'Lightweight Comfort Summer Trendy Premium Stylish Party...',\n",
       " 'Flat Sole Sneakers Shoes for all Day wear with Memory C...',\n",
       " 'Spring Edge Alpha 2 Sneakers For Men',\n",
       " 'Moscow-01 White Sneakers,Loafers,Chunky Shoes Sneakers ...',\n",
       " 'Trending Stylish Casual Outdoor Shoes Sneakers For Men',\n",
       " 'Casual Canvas High Top Boots For Boys Sneakers For Men',\n",
       " 'Casual Sneakers Colour Blocked Shoes For Boys And Men S...',\n",
       " 'Sneakers For Women',\n",
       " 'Supernova Sneakers For Men',\n",
       " 'Sneaker Casual Shoes For Women | Comfortable Cushioned ...',\n",
       " 'Modern Trendy Sneakers boot Sneakers For Men Sneakers F...',\n",
       " 'Anzarun Lite SlipOn Sneakers For Men',\n",
       " 'RAISE Sneakers For Women',\n",
       " 'Mesh |Lightweight|Comfort|Summer|Trendy|Walking|Outdoor...',\n",
       " 'Sneakers For Women',\n",
       " 'Sneakers For Men',\n",
       " 'Casual Sneaker Shoes for Women | Soft Cushioned Insole,...',\n",
       " '( by GO21 ) Soft Insole, Slip-Resistance|Walking Casual...',\n",
       " 'Sneaker Casual Shoes for Men | Soft Cushioned Insole, S...']"
      ]
     },
     "execution_count": 78,
     "metadata": {},
     "output_type": "execute_result"
    }
   ],
   "source": [
    "product_descriptions"
   ]
  },
  {
   "cell_type": "code",
   "execution_count": 82,
   "id": "7b7fdc71",
   "metadata": {},
   "outputs": [
    {
     "data": {
      "text/plain": [
       "['₹299',\n",
       " '₹299',\n",
       " '₹399',\n",
       " '₹329',\n",
       " '₹494',\n",
       " '₹1,659',\n",
       " '₹648',\n",
       " '₹299',\n",
       " '₹699',\n",
       " '₹1,585',\n",
       " '₹299',\n",
       " '₹299',\n",
       " '₹1,920',\n",
       " '₹399',\n",
       " '₹899',\n",
       " '₹749',\n",
       " '₹299',\n",
       " '₹649',\n",
       " '₹1,665',\n",
       " '₹879',\n",
       " '₹549',\n",
       " '₹1,065',\n",
       " '₹808',\n",
       " '₹998',\n",
       " '₹746',\n",
       " '₹449',\n",
       " '₹649',\n",
       " '₹649',\n",
       " '₹599',\n",
       " '₹1,685',\n",
       " '₹1,709',\n",
       " '₹559',\n",
       " '₹1,840',\n",
       " '₹1,608',\n",
       " '₹469',\n",
       " '₹649',\n",
       " '₹570',\n",
       " '₹1,649',\n",
       " '₹1,240',\n",
       " '₹1,150',\n",
       " '299',\n",
       " '299',\n",
       " '399',\n",
       " '329',\n",
       " '494',\n",
       " '1,659',\n",
       " '648',\n",
       " '299',\n",
       " '699',\n",
       " '1,585',\n",
       " '299',\n",
       " '299',\n",
       " '1,920',\n",
       " '399',\n",
       " '899',\n",
       " '749',\n",
       " '299',\n",
       " '649',\n",
       " '1,665',\n",
       " '879',\n",
       " '549',\n",
       " '1,065',\n",
       " '808',\n",
       " '998',\n",
       " '746',\n",
       " '449',\n",
       " '649',\n",
       " '649',\n",
       " '599',\n",
       " '1,685',\n",
       " '1,709',\n",
       " '559',\n",
       " '1,840',\n",
       " '1,608',\n",
       " '469',\n",
       " '649',\n",
       " '570',\n",
       " '1,649',\n",
       " '1,240',\n",
       " '1,150',\n",
       " '299',\n",
       " '299',\n",
       " '399',\n",
       " '329',\n",
       " '494',\n",
       " '1,659',\n",
       " '648',\n",
       " '299',\n",
       " '699',\n",
       " '1,585',\n",
       " '299',\n",
       " '299',\n",
       " '1,920',\n",
       " '399',\n",
       " '899',\n",
       " '749',\n",
       " '299',\n",
       " '649',\n",
       " '1,665',\n",
       " '879',\n",
       " '549',\n",
       " '1,065',\n",
       " '808',\n",
       " '998',\n",
       " '746',\n",
       " '449',\n",
       " '649',\n",
       " '649',\n",
       " '599',\n",
       " '1,685',\n",
       " '1,709',\n",
       " '559',\n",
       " '1,840',\n",
       " '1,608',\n",
       " '469',\n",
       " '649',\n",
       " '570',\n",
       " '1,649',\n",
       " '1,240',\n",
       " '1,150']"
      ]
     },
     "execution_count": 82,
     "metadata": {},
     "output_type": "execute_result"
    }
   ],
   "source": [
    "prices"
   ]
  },
  {
   "cell_type": "markdown",
   "id": "070bdfa8",
   "metadata": {},
   "source": [
    "Question 5"
   ]
  },
  {
   "cell_type": "code",
   "execution_count": 83,
   "id": "a7fbbe43",
   "metadata": {},
   "outputs": [],
   "source": [
    "driver = webdriver.Chrome()"
   ]
  },
  {
   "cell_type": "code",
   "execution_count": 84,
   "id": "dc646600",
   "metadata": {},
   "outputs": [],
   "source": [
    "driver.get('https://www.amazon.in/')"
   ]
  },
  {
   "cell_type": "code",
   "execution_count": 85,
   "id": "f28040de",
   "metadata": {},
   "outputs": [],
   "source": [
    "titles=[]\n",
    "ratings=[]\n",
    "prices=[]"
   ]
  },
  {
   "cell_type": "code",
   "execution_count": 86,
   "id": "e0df24db",
   "metadata": {},
   "outputs": [],
   "source": [
    "title=driver.find_elements(By.XPATH,'//div[@class=\"a-section a-spacing-small a-spacing-top-small\"]/div/h2')\n",
    "title[0:10]\n",
    "for i in title [0:10]:\n",
    "    title=i.text\n",
    "    titles.append(title)\n",
    "    \n",
    "rate=driver.find_elements(By.XPATH,'//div[@class=\"a-row a-size-small\"]')\n",
    "rate[0:10]\n",
    "for i in rate [0:10]:\n",
    "    rate=i.text\n",
    "    ratings.append(rate)\n",
    "    \n",
    "price=driver.find_elements(By.XPATH,'//span[@class=\"a-price-whole\"]')\n",
    "price[0:10]\n",
    "for i in price [0:10]:\n",
    "    price=i.text\n",
    "    prices.append(price.replace('₹',''))"
   ]
  },
  {
   "cell_type": "code",
   "execution_count": 87,
   "id": "78d7dff9",
   "metadata": {},
   "outputs": [
    {
     "data": {
      "text/plain": [
       "['Dell Inspiron 3530 Thin & Light Laptop, 13th Gen Intel Core i3-1305U/8GB/512GB SSD/15.6\" (39.62cm) 120Hz Refresh Rate on a FHD IPS Display/Windows 11 + MSO\\'21+McAfee 15 Month/Carbon Black/1.62kg',\n",
       " 'Dell 15 Thin & Light Laptop, Intel Core i5-1235U Processor/16GB DDR4/512GB SSD/Intel UHD Graphics/15.6\" (39.62cm) FHD Display/Windows 11 + MSO\\'21/15 Month McAfee/Carbon Black/Spill-Resistant KB/1.69kg',\n",
       " '(Refurbished) Lenovo ThinkPad 8th Gen Intel Core i5 Thin & Light HD Laptop (8 GB DDR4 RAM/256 GB SSD/14\" (35.6 cm) HD/Windows 11/MS Office/WiFi/Webcam/Intel Graphics)',\n",
       " 'Lenovo IdeaPad Slim 1 Intel Core Celeron N4020 14\" HD Thin and Light Laptop (8GB/512GB SSD/Windows 11 Home/Office 21/1Yr Warranty/Cloud Grey/1.3Kg), 82V6009LIN',\n",
       " 'ASUS Vivobook Go 14 (2023), 14\" (35.56 cm) FHD (1920 x 1080) 16:9, Intel Celeron N4500, Thin and Light Laptop (8GB RAM/256GB SSD/Integrated Graphics/Windows 11 Home/Black/1.3 Kg), E410KA-EK013W',\n",
       " 'HP Laptop 15s, AMD Ryzen 3 5300U, 15.6-inch (39.6 cm), FHD, 8GB DDR4, 512GB SSD, AMD Radeon graphics, Thin & light, Dual speakers (Win 11, MSO 2019, Silver, 1.69 kg), eq2143AU',\n",
       " 'Dell 14 Thin & Light Laptop, 12th Gen Intel Core i3-1215U Processor/8GB/512GB SSD/Intel UHD Graphics/14.0\"(35.56cm) FHD/Windows 11 + MSO\\'21/15 Month McAfee/Spill-Resistant Keyboard/Grey/1.48kg',\n",
       " 'Acer Aspire Lite AMD Ryzen 5 5500U Premium Thin and Light Laptop (16 GB RAM/512 GB SSD/Windows 11 Home) AL15-41, 39.62 cm (15.6\") Full HD Display, Metal Body, Steel Gray, 1.59 KG',\n",
       " 'HP Laptop 15s, 12th Gen Intel Core i5-1235U, 15.6-inch (39.6 cm), FHD, 16GB DDR4, 512GB SSD, Intel Iris Xe graphics, Backlit KB,MSO,Thin & Light, Dual speakers (Win 11, Silver, 1.69 kg), fq5330TU',\n",
       " 'Lenovo IdeaPad Slim 1 AMD Ryzen 5 5500U 15.6\" HD Thin and Light Laptop (16GB/512GB SSD/Windows 11 Home/MS Office 2021/1Yr ADP Free/Cloud Grey/1.61Kg), 82R400ERIN']"
      ]
     },
     "execution_count": 87,
     "metadata": {},
     "output_type": "execute_result"
    }
   ],
   "source": [
    "titles"
   ]
  },
  {
   "cell_type": "code",
   "execution_count": 88,
   "id": "f9896061",
   "metadata": {},
   "outputs": [
    {
     "data": {
      "text/plain": [
       "['210', '83', '33', '3', '1,583', '', '401', '753', '196', '4,057']"
      ]
     },
     "execution_count": 88,
     "metadata": {},
     "output_type": "execute_result"
    }
   ],
   "source": [
    "ratings"
   ]
  },
  {
   "cell_type": "code",
   "execution_count": 89,
   "id": "e2dcf20b",
   "metadata": {},
   "outputs": [
    {
     "data": {
      "text/plain": [
       "['39,990',\n",
       " '52,490',\n",
       " '17,799',\n",
       " '25,990',\n",
       " '22,950',\n",
       " '',\n",
       " '36,349',\n",
       " '38,212',\n",
       " '37,990',\n",
       " '16,990']"
      ]
     },
     "execution_count": 89,
     "metadata": {},
     "output_type": "execute_result"
    }
   ],
   "source": [
    "prices"
   ]
  },
  {
   "cell_type": "markdown",
   "id": "6f975e07",
   "metadata": {},
   "source": [
    "Question 6"
   ]
  },
  {
   "cell_type": "code",
   "execution_count": 90,
   "id": "4f01f17c",
   "metadata": {},
   "outputs": [],
   "source": [
    "driver = webdriver.Chrome()"
   ]
  },
  {
   "cell_type": "code",
   "execution_count": 91,
   "id": "e2b4dbd0",
   "metadata": {},
   "outputs": [],
   "source": [
    "driver.get('https://www.azquotes.com/top_quotes.html')"
   ]
  },
  {
   "cell_type": "code",
   "execution_count": 92,
   "id": "d5a482a7",
   "metadata": {},
   "outputs": [],
   "source": [
    "quotes=[]\n",
    "author=[]\n",
    "type_of_quotes=[]"
   ]
  },
  {
   "cell_type": "code",
   "execution_count": 93,
   "id": "deded798",
   "metadata": {},
   "outputs": [],
   "source": [
    "quote=driver.find_elements(By.XPATH,'//a[@class=\"title\"]')\n",
    "quote[0:100]\n",
    "for i in quote [0:100]:\n",
    "    quote=i.text\n",
    "    quotes.append(quote)\n",
    "    \n",
    "authors=driver.find_elements(By.XPATH,'//div[@class=\"author\"]')\n",
    "authors[0:100]\n",
    "for i in authors [0:100]:\n",
    "    authors=i.text\n",
    "    author.append(authors)\n",
    "    \n",
    "type_=driver.find_elements(By.XPATH,'//div[@class=\"tags\"]')\n",
    "type_[0:100]\n",
    "for i in type_ [0:100]:\n",
    "    type_=i.text\n",
    "    type_of_quotes.append(type_)"
   ]
  },
  {
   "cell_type": "code",
   "execution_count": 94,
   "id": "c3e54d1b",
   "metadata": {},
   "outputs": [
    {
     "data": {
      "text/html": [
       "<div>\n",
       "<style scoped>\n",
       "    .dataframe tbody tr th:only-of-type {\n",
       "        vertical-align: middle;\n",
       "    }\n",
       "\n",
       "    .dataframe tbody tr th {\n",
       "        vertical-align: top;\n",
       "    }\n",
       "\n",
       "    .dataframe thead th {\n",
       "        text-align: right;\n",
       "    }\n",
       "</style>\n",
       "<table border=\"1\" class=\"dataframe\">\n",
       "  <thead>\n",
       "    <tr style=\"text-align: right;\">\n",
       "      <th></th>\n",
       "      <th>QUOTES</th>\n",
       "      <th>AUTHOR</th>\n",
       "      <th>TYPE</th>\n",
       "    </tr>\n",
       "  </thead>\n",
       "  <tbody>\n",
       "    <tr>\n",
       "      <th>0</th>\n",
       "      <td>The essence of strategy is choosing what not t...</td>\n",
       "      <td>Michael Porter</td>\n",
       "      <td>Essence, Deep Thought, Transcendentalism</td>\n",
       "    </tr>\n",
       "    <tr>\n",
       "      <th>1</th>\n",
       "      <td>One cannot and must not try to erase the past ...</td>\n",
       "      <td>Golda Meir</td>\n",
       "      <td>Inspiration, Past, Trying</td>\n",
       "    </tr>\n",
       "    <tr>\n",
       "      <th>2</th>\n",
       "      <td>Patriotism means to stand by the country. It d...</td>\n",
       "      <td>Theodore Roosevelt</td>\n",
       "      <td>Country, Peace, War</td>\n",
       "    </tr>\n",
       "    <tr>\n",
       "      <th>3</th>\n",
       "      <td>Death is something inevitable. When a man has ...</td>\n",
       "      <td>Nelson Mandela</td>\n",
       "      <td>Inspirational, Motivational, Death</td>\n",
       "    </tr>\n",
       "    <tr>\n",
       "      <th>4</th>\n",
       "      <td>You have to love a nation that celebrates its ...</td>\n",
       "      <td>Erma Bombeck</td>\n",
       "      <td>4th Of July, Food, Patriotic</td>\n",
       "    </tr>\n",
       "    <tr>\n",
       "      <th>...</th>\n",
       "      <td>...</td>\n",
       "      <td>...</td>\n",
       "      <td>...</td>\n",
       "    </tr>\n",
       "    <tr>\n",
       "      <th>95</th>\n",
       "      <td>When the going gets weird, the weird turn pro.</td>\n",
       "      <td>Hunter S. Thompson</td>\n",
       "      <td>Music, Sports, Hunting</td>\n",
       "    </tr>\n",
       "    <tr>\n",
       "      <th>96</th>\n",
       "      <td>When a train goes through a tunnel and it gets...</td>\n",
       "      <td>Corrie Ten Boom</td>\n",
       "      <td>Trust, Encouraging, Uplifting</td>\n",
       "    </tr>\n",
       "    <tr>\n",
       "      <th>97</th>\n",
       "      <td>If you think you are too small to make a diffe...</td>\n",
       "      <td>Dalai Lama</td>\n",
       "      <td>Inspirational, Funny, Change</td>\n",
       "    </tr>\n",
       "    <tr>\n",
       "      <th>98</th>\n",
       "      <td>God doesn't require us to succeed, he only req...</td>\n",
       "      <td>Mother Teresa</td>\n",
       "      <td>Success, God, Mother</td>\n",
       "    </tr>\n",
       "    <tr>\n",
       "      <th>99</th>\n",
       "      <td>Change your thoughts and you change your world.</td>\n",
       "      <td>Norman Vincent Peale</td>\n",
       "      <td>Inspirational, Motivational, Change</td>\n",
       "    </tr>\n",
       "  </tbody>\n",
       "</table>\n",
       "<p>100 rows × 3 columns</p>\n",
       "</div>"
      ],
      "text/plain": [
       "                                               QUOTES                AUTHOR  \\\n",
       "0   The essence of strategy is choosing what not t...        Michael Porter   \n",
       "1   One cannot and must not try to erase the past ...            Golda Meir   \n",
       "2   Patriotism means to stand by the country. It d...    Theodore Roosevelt   \n",
       "3   Death is something inevitable. When a man has ...        Nelson Mandela   \n",
       "4   You have to love a nation that celebrates its ...          Erma Bombeck   \n",
       "..                                                ...                   ...   \n",
       "95     When the going gets weird, the weird turn pro.    Hunter S. Thompson   \n",
       "96  When a train goes through a tunnel and it gets...       Corrie Ten Boom   \n",
       "97  If you think you are too small to make a diffe...            Dalai Lama   \n",
       "98  God doesn't require us to succeed, he only req...         Mother Teresa   \n",
       "99    Change your thoughts and you change your world.  Norman Vincent Peale   \n",
       "\n",
       "                                        TYPE  \n",
       "0   Essence, Deep Thought, Transcendentalism  \n",
       "1                  Inspiration, Past, Trying  \n",
       "2                        Country, Peace, War  \n",
       "3         Inspirational, Motivational, Death  \n",
       "4               4th Of July, Food, Patriotic  \n",
       "..                                       ...  \n",
       "95                    Music, Sports, Hunting  \n",
       "96             Trust, Encouraging, Uplifting  \n",
       "97              Inspirational, Funny, Change  \n",
       "98                      Success, God, Mother  \n",
       "99       Inspirational, Motivational, Change  \n",
       "\n",
       "[100 rows x 3 columns]"
      ]
     },
     "execution_count": 94,
     "metadata": {},
     "output_type": "execute_result"
    }
   ],
   "source": [
    "import pandas as pd\n",
    "df=pd.DataFrame({'QUOTES':quotes, 'AUTHOR':author, 'TYPE':type_of_quotes})\n",
    "df"
   ]
  },
  {
   "cell_type": "code",
   "execution_count": null,
   "id": "1023d4bb",
   "metadata": {},
   "outputs": [],
   "source": []
  }
 ],
 "metadata": {
  "kernelspec": {
   "display_name": "Python 3 (ipykernel)",
   "language": "python",
   "name": "python3"
  },
  "language_info": {
   "codemirror_mode": {
    "name": "ipython",
    "version": 3
   },
   "file_extension": ".py",
   "mimetype": "text/x-python",
   "name": "python",
   "nbconvert_exporter": "python",
   "pygments_lexer": "ipython3",
   "version": "3.11.5"
  }
 },
 "nbformat": 4,
 "nbformat_minor": 5
}
